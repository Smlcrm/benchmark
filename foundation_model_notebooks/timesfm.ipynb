{
  "nbformat": 4,
  "nbformat_minor": 0,
  "metadata": {
    "colab": {
      "provenance": []
    },
    "kernelspec": {
      "name": "python3",
      "display_name": "Python 3"
    },
    "language_info": {
      "name": "python"
    }
  },
  "cells": [
    {
      "cell_type": "code",
      "source": [
        "!pip install huggingface_hub[cli]\n",
        "!pip install utilsforecast\n",
        "!pip install praxis\n",
        "!pip install paxml\n",
        "!pip install jax\n",
        "!pip install einshape"
      ],
      "metadata": {
        "id": "G6TVZWYy1UY0"
      },
      "execution_count": null,
      "outputs": []
    },
    {
      "cell_type": "code",
      "source": [
        "!pip install -q -e git+https://github.com/google-research/timesfm.git@master#egg=timesfm"
      ],
      "metadata": {
        "id": "I_o3gLQgvQ1P"
      },
      "execution_count": null,
      "outputs": []
    },
    {
      "cell_type": "code",
      "source": [
        "!pip install timesfm"
      ],
      "metadata": {
        "id": "01tnHnB7wN0A"
      },
      "execution_count": null,
      "outputs": []
    },
    {
      "cell_type": "code",
      "source": [
        "import timesfm"
      ],
      "metadata": {
        "id": "YFQjHMXUwWur"
      },
      "execution_count": null,
      "outputs": []
    },
    {
      "cell_type": "code",
      "source": [
        "tfm = timesfm.TimesFm(\n",
        "      hparams=timesfm.TimesFmHparams(\n",
        "          backend=\"gpu\",\n",
        "          per_core_batch_size=32,\n",
        "          horizon_len=128,\n",
        "          num_layers=50,\n",
        "          use_positional_embedding=False,\n",
        "          context_len=2048,\n",
        "      ),\n",
        "      checkpoint=timesfm.TimesFmCheckpoint(\n",
        "          huggingface_repo_id=\"google/timesfm-2.0-500m-pytorch\"),\n",
        "  )"
      ],
      "metadata": {
        "id": "bme0FEnJ0n2_"
      },
      "execution_count": null,
      "outputs": []
    },
    {
      "cell_type": "code",
      "source": [
        "#Univariate\n",
        "\n",
        "import pandas as pd\n",
        "import numpy as np\n",
        "from datetime import datetime, timedelta\n",
        "\n",
        "start_date = datetime.now()\n",
        "num_days = 365\n",
        "dates = [start_date + timedelta(days=i) for i in range(num_days)]\n",
        "sales = [100 + i * 10 + np.random.normal(0, 10) for i in range(num_days)]\n",
        "\n",
        "data = pd.DataFrame({\n",
        "    'ds': dates,\n",
        "    'sales': sales,\n",
        "    'unique_id': \"sales\"\n",
        "})"
      ],
      "metadata": {
        "id": "dtZ_eRid24OX"
      },
      "execution_count": null,
      "outputs": []
    },
    {
      "cell_type": "code",
      "source": [
        "#Multivariate (other variables get ignored)\n",
        "\n",
        "import pandas as pd\n",
        "import numpy as np\n",
        "from datetime import datetime, timedelta\n",
        "\n",
        "start_date = datetime.now()\n",
        "num_days = 365\n",
        "dates = [start_date + timedelta(days=i) for i in range(num_days)]\n",
        "sales = [100 + i * 10 + np.random.normal(0, 10) for i in range(num_days)]\n",
        "ad_spend = [50 + 20 * np.sin(2 * np.pi * i / 30) + np.random.normal(0, 5) for i in range(num_days)]\n",
        "temperature = [20 + 10 * np.sin(2 * np.pi * i / 365) + np.random.normal(0, 2) for i in range(num_days)]\n",
        "\n",
        "data = pd.DataFrame({\n",
        "    'ds': dates,\n",
        "    'sales': sales,\n",
        "    'ad_spend': ad_spend,\n",
        "    'temperature': temperature,\n",
        "    'unique_id': \"sales\"\n",
        "})"
      ],
      "metadata": {
        "id": "jjI2-oa49FCk"
      },
      "execution_count": null,
      "outputs": []
    },
    {
      "cell_type": "code",
      "source": [
        "%%time\n",
        "forecast_df = tfm.forecast_on_df(\n",
        "    inputs=data,\n",
        "    freq=\"D\",\n",
        "    value_name=\"sales\",\n",
        "    num_jobs=-1,\n",
        ")"
      ],
      "metadata": {
        "id": "dXqGP8hk277i"
      },
      "execution_count": null,
      "outputs": []
    },
    {
      "cell_type": "code",
      "source": [
        "data"
      ],
      "metadata": {
        "id": "bYXpUoch3Qb9"
      },
      "execution_count": null,
      "outputs": []
    },
    {
      "cell_type": "code",
      "source": [
        "forecast_df"
      ],
      "metadata": {
        "id": "hHCfdGBa3SJE"
      },
      "execution_count": null,
      "outputs": []
    }
  ]
}