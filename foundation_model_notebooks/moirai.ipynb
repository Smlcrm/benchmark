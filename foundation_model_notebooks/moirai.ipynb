{
 "cells": [
  {
   "cell_type": "code",
   "execution_count": 47,
   "id": "bc140281",
   "metadata": {},
   "outputs": [
    {
     "name": "stdout",
     "output_type": "stream",
     "text": [
      "['A' 'B' 'C' 'D' 'E' 'F' 'G' 'H' 'I' 'J']\n",
      "                            A\n",
      "2021-01-01 00:00:00 -0.134010\n",
      "2021-01-01 01:00:00  0.038150\n",
      "2021-01-01 02:00:00 -0.660522\n",
      "2021-01-01 03:00:00 -0.126513\n",
      "2021-01-01 04:00:00  1.135742\n"
     ]
    }
   ],
   "source": [
    "# Generated synthetic univariate or multivariate time series data\n",
    "import pandas as pd\n",
    "import numpy as np\n",
    "from einops import rearrange\n",
    "\n",
    "def generate_time_series_data(start_time: str = \"2021-01-01 00:00:00\", \n",
    "                              freq: str = \"H\", \n",
    "                              periods: int = 40, \n",
    "                              n_variables: int = 10, \n",
    "                              univariate: bool = False) -> pd.DataFrame:\n",
    "    \"\"\"\n",
    "    Generate a univariate or multivariate time series DataFrame.\n",
    "    \n",
    "    Args:\n",
    "        start_time (str): Start datetime.\n",
    "        freq (str): Pandas frequency string (e.g., 'H' for hourly).\n",
    "        periods (int): Number of time steps.\n",
    "        n_variables (int): Number of variables (ignored if univariate=True).\n",
    "        univariate (bool): Whether to generate univariate (single-column) data.\n",
    "\n",
    "    Returns:\n",
    "        pd.DataFrame: Time series data with datetime index.\n",
    "    \"\"\"\n",
    "    index = pd.date_range(start=start_time, periods=periods, freq=freq)\n",
    "\n",
    "    if univariate:\n",
    "        data = np.random.randn(periods)\n",
    "        df = pd.DataFrame(data, index=index, columns=[\"A\"])\n",
    "    else:\n",
    "        columns = list(\"ABCDEFGHIJ\")[:n_variables]\n",
    "        data = np.random.randn(periods, n_variables)\n",
    "        df = pd.DataFrame(data, index=index, columns=columns)\n",
    "    \n",
    "    return df\n",
    "\n",
    "df_multivariate = generate_time_series_data()\n",
    "print(df_multivariate.columns.values)\n",
    "df_univariate = generate_time_series_data(univariate=True)\n",
    "print(df_univariate.head())"
   ]
  },
  {
   "cell_type": "code",
   "execution_count": 62,
   "id": "505d2e59",
   "metadata": {},
   "outputs": [],
   "source": [
    "import torch\n",
    "import matplotlib.pyplot as plt\n",
    "import pandas as pd\n",
    "from gluonts.dataset.pandas import PandasDataset\n",
    "from gluonts.dataset.split import split\n",
    "from huggingface_hub import hf_hub_download\n",
    "\n",
    "from uni2ts.eval_util.plot import plot_single\n",
    "from uni2ts.model.moirai import MoiraiForecast, MoiraiModule\n",
    "from uni2ts.model.moirai_moe import MoiraiMoEForecast, MoiraiMoEModule\n",
    "\n",
    "# Model configuration\n",
    "MODEL = \"moirai\"  # model name: choose from {'moirai', 'moirai-moe'}\n",
    "SIZE = \"small\"  # model size: choose from {'small', 'base', 'large'}\n",
    "PDT = 60  # prediction length: any positive integer\n",
    "CTX = 40  # context length: any positive integer\n",
    "PSZ = 8  # patch size: choose from {\"auto\", 8, 16, 32, 64, 128}\n",
    "BSZ = 8  # batch size: any positive integer\n",
    "TEST = 8  # test set length: any positive integer\n",
    "\n"
   ]
  },
  {
   "cell_type": "code",
   "execution_count": 65,
   "id": "ac29fd9b",
   "metadata": {},
   "outputs": [],
   "source": [
    "def moirai_maker(MODEL):\n",
    "    if MODEL == \"moirai\":\n",
    "        model = MoiraiForecast(\n",
    "            module=MoiraiModule.from_pretrained(f\"Salesforce/moirai-1.1-R-{SIZE}\"),\n",
    "            prediction_length=PDT,\n",
    "            context_length=CTX,\n",
    "            patch_size=PSZ,\n",
    "            num_samples=500,\n",
    "            target_dim=1,\n",
    "            feat_dynamic_real_dim=0,\n",
    "            past_feat_dynamic_real_dim=0,\n",
    "        )\n",
    "    elif MODEL == \"moirai-moe\":\n",
    "        model = MoiraiMoEForecast(\n",
    "            module=MoiraiMoEModule.from_pretrained(f\"Salesforce/moirai-moe-1.0-R-{SIZE}\"),\n",
    "            prediction_length=PDT,\n",
    "            context_length=CTX,\n",
    "            patch_size=PSZ,\n",
    "            num_samples=500,\n",
    "            target_dim=1,\n",
    "            feat_dynamic_real_dim=0,\n",
    "            past_feat_dynamic_real_dim=0,\n",
    "        )\n",
    "    return model"
   ]
  },
  {
   "cell_type": "code",
   "execution_count": 66,
   "id": "862e33ee",
   "metadata": {},
   "outputs": [
    {
     "name": "stdout",
     "output_type": "stream",
     "text": [
      "[0.7356 0.7296 0.8398 0.8228 0.8183 0.9249 0.9247 1.0396 0.8851 0.8946\n",
      " 0.9251 1.0319 0.8427 0.9852 1.0042 1.0281 1.1844 1.1218 1.2159 1.3126\n",
      " 1.313  1.0993 1.2128 1.4248 1.0125 1.1989 1.2793 1.2406 1.0074 1.2241\n",
      " 1.1024 1.3489 0.8232 1.0335 0.7033 0.9465 0.9468 1.0141 0.8464 1.1265\n",
      " 0.9715 1.0845 1.0184 1.1195 1.2554 1.2013 1.2561 1.1922 1.082  1.3733\n",
      " 1.4954 1.5543 1.4468 1.5289 1.6264 1.6079 1.1143 1.     0.9903 1.1653]\n"
     ]
    }
   ],
   "source": [
    "# Moirai univariate\n",
    "model = moirai_maker(\"moirai\")\n",
    "\n",
    "# Time series values. Shape: (batch, time, variate)\n",
    "past_target = rearrange(\n",
    "    torch.as_tensor(df_univariate[\"A\"].to_numpy(), dtype=torch.float32), \"t -> 1 t 1\"\n",
    ")\n",
    "# 1s if the value is observed, 0s otherwise. Shape: (batch, time, variate)\n",
    "past_observed_target = torch.ones_like(past_target, dtype=torch.bool)\n",
    "# 1s if the value is padding, 0s otherwise. Shape: (batch, time)\n",
    "past_is_pad = torch.zeros_like(past_target, dtype=torch.bool).squeeze(-1)\n",
    "\n",
    "#print(\"past_target.shape:\", past_target.shape)\n",
    "#print(\"past_observed_target.shape:\", past_observed_target.shape)\n",
    "#print(\"past_is_pad.shape:\", past_is_pad.shape)\n",
    "forecast = model(\n",
    "    past_target=past_target,\n",
    "    past_observed_target=past_observed_target,\n",
    "    past_is_pad=past_is_pad,\n",
    ")\n",
    "\n",
    "\n",
    "print(np.round(np.median(forecast[0], axis=0), decimals=4),)\n",
    "\n",
    "\n"
   ]
  },
  {
   "cell_type": "code",
   "execution_count": 10,
   "id": "327bef43",
   "metadata": {},
   "outputs": [
    {
     "name": "stdout",
     "output_type": "stream",
     "text": [
      "{'A': [-0.19054992, 0.39191222, -0.19052446, -0.19054992, -0.15109418, -0.24739142, 0.28002316, -0.24767973]}\n"
     ]
    }
   ],
   "source": [
    "# Moirai-MoE univariate\n",
    "model = moirai_maker(\"moirai-moe\", gluon_uni)\n",
    "predictor = model.create_predictor(batch_size=BSZ)\n",
    "forecasts = predictor.predict(test_data_uni.input)\n",
    "\n",
    "input_it = iter(test_data_uni.input)\n",
    "label_it = iter(test_data_uni.label)\n",
    "forecast_it = iter(forecasts)\n",
    "\n",
    "#inp = next(input_it)\n",
    "#label = next(label_it)\n",
    "#forecast = next(forecast_it)\n",
    "results_dict = dict()\n",
    "letter_sequence = \"A\"\n",
    "for letter in letter_sequence:\n",
    "    results_dict[letter] = []\n",
    "    \n",
    "for fore in forecast_it:\n",
    "    #print(fore)\n",
    "    for letter in letter_sequence:\n",
    "        if fore.item_id == letter:\n",
    "            #print(fore.samples)\n",
    "            results_dict[letter].extend(np.median(fore.samples,axis=0))\n",
    "\n",
    "\n",
    "print(results_dict)"
   ]
  }
 ],
 "metadata": {
  "kernelspec": {
   "display_name": "moirai",
   "language": "python",
   "name": "python3"
  },
  "language_info": {
   "codemirror_mode": {
    "name": "ipython",
    "version": 3
   },
   "file_extension": ".py",
   "mimetype": "text/x-python",
   "name": "python",
   "nbconvert_exporter": "python",
   "pygments_lexer": "ipython3",
   "version": "3.10.18"
  }
 },
 "nbformat": 4,
 "nbformat_minor": 5
}
