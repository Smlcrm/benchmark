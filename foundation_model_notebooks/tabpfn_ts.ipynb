{
  "nbformat": 4,
  "nbformat_minor": 0,
  "metadata": {
    "colab": {
      "provenance": []
    },
    "kernelspec": {
      "name": "python3",
      "display_name": "Python 3"
    },
    "language_info": {
      "name": "python"
    }
  },
  "cells": [
    {
      "cell_type": "code",
      "execution_count": null,
      "metadata": {
        "collapsed": true,
        "id": "JVK2pqHCUTSm"
      },
      "outputs": [],
      "source": [
        "!uv pip install tabpfn-time-series>=1.0.3"
      ]
    },
    {
      "cell_type": "code",
      "source": [
        "!pip install numpy==1.26.4"
      ],
      "metadata": {
        "id": "_r1zcj5tYA4y"
      },
      "execution_count": null,
      "outputs": []
    },
    {
      "cell_type": "code",
      "source": [
        "!pip install datasets"
      ],
      "metadata": {
        "collapsed": true,
        "id": "ogA1aPdqVexI"
      },
      "execution_count": null,
      "outputs": []
    },
    {
      "cell_type": "code",
      "source": [
        "dataset_metadata = {\n",
        "    \"monash_tourism_monthly\": {\"prediction_length\": 24},\n",
        "    \"m4_hourly\": {\"prediction_length\": 48},\n",
        "}\n",
        "\n",
        "dataset_choice = \"monash_tourism_monthly\"\n",
        "num_time_series_subset = 2"
      ],
      "metadata": {
        "id": "sfkwnxgNVdWY"
      },
      "execution_count": null,
      "outputs": []
    },
    {
      "cell_type": "code",
      "source": [
        "from datasets import load_dataset\n",
        "from tabpfn_time_series import TimeSeriesDataFrame\n",
        "from tabpfn_time_series.data_preparation import to_gluonts_univariate, generate_test_X\n",
        "\n",
        "prediction_length = dataset_metadata[dataset_choice][\"prediction_length\"]\n",
        "dataset = load_dataset(\"autogluon/chronos_datasets\", dataset_choice)\n",
        "\n",
        "tsdf = TimeSeriesDataFrame(to_gluonts_univariate(dataset[\"train\"]))\n",
        "tsdf = tsdf[\n",
        "    tsdf.index.get_level_values(\"item_id\").isin(tsdf.item_ids[:num_time_series_subset])\n",
        "]\n",
        "train_tsdf, test_tsdf_ground_truth = tsdf.train_test_split(\n",
        "    prediction_length=prediction_length\n",
        ")\n",
        "test_tsdf = generate_test_X(train_tsdf, prediction_length)"
      ],
      "metadata": {
        "id": "W64E-ZjdVPBH"
      },
      "execution_count": null,
      "outputs": []
    },
    {
      "cell_type": "code",
      "source": [
        "from tabpfn_time_series.plot import plot_actual_ts\n",
        "\n",
        "plot_actual_ts(train_tsdf, test_tsdf_ground_truth)"
      ],
      "metadata": {
        "id": "Zt7JyaSlWQ1Q"
      },
      "execution_count": null,
      "outputs": []
    },
    {
      "cell_type": "code",
      "source": [
        "from tabpfn_time_series import FeatureTransformer\n",
        "from tabpfn_time_series.features import (\n",
        "    RunningIndexFeature,\n",
        "    CalendarFeature,\n",
        "    AutoSeasonalFeature,\n",
        ")\n",
        "\n",
        "selected_features = [\n",
        "    RunningIndexFeature(),\n",
        "    CalendarFeature(),\n",
        "    AutoSeasonalFeature(),\n",
        "]\n",
        "\n",
        "feature_transformer = FeatureTransformer(selected_features)\n",
        "\n",
        "train_tsdf, test_tsdf = feature_transformer.transform(train_tsdf, test_tsdf)"
      ],
      "metadata": {
        "id": "HAm4fiqBYzai"
      },
      "execution_count": null,
      "outputs": []
    },
    {
      "cell_type": "code",
      "source": [
        "train_tsdf.head()"
      ],
      "metadata": {
        "id": "_Ljh9BeTWYNp"
      },
      "execution_count": null,
      "outputs": []
    },
    {
      "cell_type": "code",
      "source": [
        "test_tsdf.head()"
      ],
      "metadata": {
        "id": "C8hkuVRUWbYO"
      },
      "execution_count": null,
      "outputs": []
    },
    {
      "cell_type": "code",
      "source": [
        "from tabpfn_time_series import TabPFNTimeSeriesPredictor, TabPFNMode\n",
        "\n",
        "predictor = TabPFNTimeSeriesPredictor(\n",
        "    tabpfn_mode=TabPFNMode.CLIENT,\n",
        ")\n",
        "\n",
        "pred = predictor.predict(train_tsdf, test_tsdf)"
      ],
      "metadata": {
        "id": "bifJa8EKWfUX"
      },
      "execution_count": null,
      "outputs": []
    },
    {
      "cell_type": "code",
      "source": [
        "from tabpfn_time_series.plot import plot_pred_and_actual_ts\n",
        "\n",
        "plot_pred_and_actual_ts(\n",
        "    train=train_tsdf,\n",
        "    test=test_tsdf_ground_truth,\n",
        "    pred=pred,\n",
        ")"
      ],
      "metadata": {
        "id": "zabIYeW4Y7HW"
      },
      "execution_count": null,
      "outputs": []
    },
    {
      "cell_type": "code",
      "source": [
        "pred"
      ],
      "metadata": {
        "id": "Hh46A3LWZA5g"
      },
      "execution_count": null,
      "outputs": []
    }
  ]
}