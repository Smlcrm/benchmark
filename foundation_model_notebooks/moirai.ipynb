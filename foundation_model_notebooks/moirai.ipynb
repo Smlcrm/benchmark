{
 "cells": [
  {
   "cell_type": "code",
   "execution_count": 9,
   "id": "bc140281",
   "metadata": {},
   "outputs": [
    {
     "name": "stdout",
     "output_type": "stream",
     "text": [
      "['A' 'B' 'C' 'D' 'E' 'F' 'G' 'H' 'I' 'J']\n",
      "                            A\n",
      "2021-01-01 00:00:00  0.407823\n",
      "2021-01-01 01:00:00  0.042234\n",
      "2021-01-01 02:00:00  1.757940\n",
      "2021-01-01 03:00:00 -0.227974\n",
      "2021-01-01 04:00:00 -1.761402\n"
     ]
    }
   ],
   "source": [
    "# Generated synthetic univariate or multivariate time series data\n",
    "import pandas as pd\n",
    "import numpy as np\n",
    "\n",
    "def generate_time_series_data(start_time: str = \"2021-01-01 00:00:00\", \n",
    "                              freq: str = \"H\", \n",
    "                              periods: int = 40, \n",
    "                              n_variables: int = 10, \n",
    "                              univariate: bool = False) -> pd.DataFrame:\n",
    "    \"\"\"\n",
    "    Generate a univariate or multivariate time series DataFrame.\n",
    "    \n",
    "    Args:\n",
    "        start_time (str): Start datetime.\n",
    "        freq (str): Pandas frequency string (e.g., 'H' for hourly).\n",
    "        periods (int): Number of time steps.\n",
    "        n_variables (int): Number of variables (ignored if univariate=True).\n",
    "        univariate (bool): Whether to generate univariate (single-column) data.\n",
    "\n",
    "    Returns:\n",
    "        pd.DataFrame: Time series data with datetime index.\n",
    "    \"\"\"\n",
    "    index = pd.date_range(start=start_time, periods=periods, freq=freq)\n",
    "\n",
    "    if univariate:\n",
    "        data = np.random.randn(periods)\n",
    "        df = pd.DataFrame(data, index=index, columns=[\"A\"])\n",
    "    else:\n",
    "        columns = list(\"ABCDEFGHIJ\")[:n_variables]\n",
    "        data = np.random.randn(periods, n_variables)\n",
    "        df = pd.DataFrame(data, index=index, columns=columns)\n",
    "    \n",
    "    return df\n",
    "\n",
    "df_multivariate = generate_time_series_data()\n",
    "print(df_multivariate.columns.values)\n",
    "df_univariate = generate_time_series_data(univariate=True)\n",
    "print(df_univariate.head())"
   ]
  },
  {
   "cell_type": "code",
   "execution_count": 10,
   "id": "505d2e59",
   "metadata": {},
   "outputs": [
    {
     "name": "stdout",
     "output_type": "stream",
     "text": [
      "PandasDataset<size=10, freq=H, num_feat_dynamic_real=0, num_past_feat_dynamic_real=0, num_feat_static_real=0, num_feat_static_cat=0, static_cardinalities=[]>\n",
      "PandasDataset<size=1, freq=H, num_feat_dynamic_real=0, num_past_feat_dynamic_real=0, num_feat_static_real=0, num_feat_static_cat=0, static_cardinalities=[]>\n"
     ]
    }
   ],
   "source": [
    "import torch\n",
    "import matplotlib.pyplot as plt\n",
    "import pandas as pd\n",
    "from gluonts.dataset.pandas import PandasDataset\n",
    "from gluonts.dataset.split import split\n",
    "from huggingface_hub import hf_hub_download\n",
    "\n",
    "from uni2ts.eval_util.plot import plot_single\n",
    "from uni2ts.model.moirai import MoiraiForecast, MoiraiModule\n",
    "from uni2ts.model.moirai_moe import MoiraiMoEForecast, MoiraiMoEModule\n",
    "\n",
    "# Model configuration\n",
    "MODEL = \"moirai\"  # model name: choose from {'moirai', 'moirai_moe'}\n",
    "SIZE = \"small\"  # model size: choose from {'small', 'base', 'large'}\n",
    "PDT = 4  # prediction length: any positive integer\n",
    "CTX = 10  # context length: any positive integer\n",
    "PSZ = 8  # patch size: choose from {\"auto\", 8, 16, 32, 64, 128}\n",
    "BSZ = 8  # batch size: any positive integer\n",
    "TEST = 8  # test set length: any positive integer\n",
    "\n",
    "gluon_multi = PandasDataset(dict(df_multivariate))\n",
    "gluon_uni = PandasDataset(dict(df_univariate))\n",
    "print(gluon_multi)\n",
    "print(gluon_uni)"
   ]
  },
  {
   "cell_type": "code",
   "execution_count": 11,
   "id": "db23e2e6",
   "metadata": {},
   "outputs": [],
   "source": [
    "# Obtain train and test data\n",
    "train_multi, test_template_multi = split(\n",
    "    gluon_multi, offset=-TEST\n",
    ")  # assign last TEST time steps as test set\n",
    "\n",
    "\n",
    "train_uni, test_template_uni = split(\n",
    "    gluon_uni, offset=-TEST\n",
    ")  # assign last TEST time steps as test set\n",
    "\n",
    "\n",
    "# Construct rolling window evaluation\n",
    "test_data_multi = test_template_multi.generate_instances(\n",
    "    prediction_length=PDT,  # number of time steps for each prediction\n",
    "    windows=TEST // PDT,  # number of windows in rolling window evaluation\n",
    "    distance=PDT,  # number of time steps between each window - distance=PDT for non-overlapping windows\n",
    ")\n",
    "\n",
    "# Construct rolling window evaluation\n",
    "test_data_uni = test_template_uni.generate_instances(\n",
    "    prediction_length=PDT,  # number of time steps for each prediction\n",
    "    windows=TEST // PDT,  # number of windows in rolling window evaluation\n",
    "    distance=PDT,  # number of time steps between each window - distance=PDT for non-overlapping windows\n",
    ")\n",
    "\n"
   ]
  },
  {
   "cell_type": "code",
   "execution_count": 12,
   "id": "ac29fd9b",
   "metadata": {},
   "outputs": [],
   "source": [
    "def moirai_maker(MODEL, gluon_data):\n",
    "    if MODEL == \"moirai\":\n",
    "        model = MoiraiForecast(\n",
    "            module=MoiraiModule.from_pretrained(f\"Salesforce/moirai-1.1-R-{SIZE}\"),\n",
    "            prediction_length=PDT,\n",
    "            context_length=CTX,\n",
    "            patch_size=PSZ,\n",
    "            num_samples=5,\n",
    "            target_dim=1,\n",
    "            feat_dynamic_real_dim=gluon_data.num_feat_dynamic_real,\n",
    "            past_feat_dynamic_real_dim=gluon_data.num_past_feat_dynamic_real,\n",
    "        )\n",
    "    elif MODEL == \"moirai_moe\":\n",
    "        model = MoiraiMoEForecast(\n",
    "            module=MoiraiMoEModule.from_pretrained(f\"Salesforce/moirai-moe-1.0-R-{SIZE}\"),\n",
    "            prediction_length=PDT,\n",
    "            context_length=CTX,\n",
    "            patch_size=PSZ,\n",
    "            num_samples=5,\n",
    "            target_dim=1,\n",
    "            feat_dynamic_real_dim=gluon_data.num_feat_dynamic_real,\n",
    "            past_feat_dynamic_real_dim=gluon_data.num_past_feat_dynamic_real,\n",
    "        )\n",
    "    return model"
   ]
  },
  {
   "cell_type": "code",
   "execution_count": 13,
   "id": "5b8707f7",
   "metadata": {},
   "outputs": [
    {
     "name": "stdout",
     "output_type": "stream",
     "text": [
      "{'A': [0.22621918, 0.22547217, 0.22547217, 1.2673733, 0.94532037, 0.0027131368, 0.5578801, 0.77568424], 'B': [0.16584605, 0.16801988, 0.27467, 0.16584605, 0.032019332, 0.032019332, 0.03266526, 0.032019332], 'C': [0.27394024, 0.614929, 0.49208787, 0.27383596, 0.9271388, 0.03653625, 0.037524186, 0.03653625], 'D': [0.63940144, 0.39265558, -0.13237914, -0.13237914, -0.19178307, -0.063766345, -0.19178307, -0.1998911], 'E': [1.6752424, 1.7658281, 0.87193537, 0.6394053, 0.73548913, 0.12432637, 0.12580438, 0.38651872], 'F': [-0.14359237, -0.14292242, -0.14361465, -0.14378239, 0.3467977, -0.40233213, -0.40208614, -0.4021718], 'G': [-0.2467654, 0.8191514, -0.2467654, -0.24764727, -0.34842074, -0.346546, -0.346546, 0.14414781], 'H': [-0.19641188, 0.3971681, 0.07294911, -0.36902112, -0.30496883, -0.30366325, 0.37729037, -0.3039636], 'I': [-0.36268777, 0.050759733, -0.3620067, -0.016449511, 0.07535602, -0.10393514, -0.10298226, 0.41284], 'J': [-0.046037797, -0.045171198, -0.04468745, -0.04630487, -0.16403936, -0.16170008, 0.34977114, -0.16375463]}\n"
     ]
    }
   ],
   "source": [
    "# Moirai_MoE multivariate\n",
    "model = moirai_maker(\"moirai_moe\", gluon_multi)\n",
    "predictor = model.create_predictor(batch_size=BSZ)\n",
    "forecasts = predictor.predict(test_data_multi.input)\n",
    "\n",
    "input_it = iter(test_data_multi.input)\n",
    "label_it = iter(test_data_multi.label)\n",
    "forecast_it = iter(forecasts)\n",
    "\n",
    "#inp = next(input_it)\n",
    "#label = next(label_it)\n",
    "#forecast = next(forecast_it)\n",
    "results_dict = dict()\n",
    "letter_sequence = \"ABCDEFGHIJ\"\n",
    "for letter in letter_sequence:\n",
    "    results_dict[letter] = []\n",
    "    \n",
    "for fore in forecast_it:\n",
    "    #print(fore)\n",
    "    for letter in letter_sequence:\n",
    "        if fore.item_id == letter:\n",
    "            #print(fore.samples)\n",
    "            results_dict[letter].extend(np.median(fore.samples,axis=0))\n",
    "\n",
    "\n",
    "print(results_dict)"
   ]
  },
  {
   "cell_type": "code",
   "execution_count": 14,
   "id": "72e05655",
   "metadata": {},
   "outputs": [
    {
     "name": "stdout",
     "output_type": "stream",
     "text": [
      "{'A': [-0.012604862, -0.52203995, 0.9761853, 1.069562, -0.33709297, 0.30398068, 0.50754076, -0.5211502], 'B': [0.3004784, 0.75410986, -0.077502325, 0.36798602, 0.16729516, -0.9232799, 0.5867167, 0.16634227], 'C': [-0.067326754, 0.5246322, 0.90610874, -0.20859733, 0.46371543, 1.1043057, 1.3195828, -0.62426656], 'D': [-0.8738327, -0.13773657, -0.33924344, -1.0969563, 0.2909627, -1.0053365, -0.81486875, -0.26043648], 'E': [0.7745171, 0.18525466, 1.6390488, 0.98968494, -0.07147647, 0.11124915, -0.25061038, 0.00346639], 'F': [-0.30573457, -0.55762756, 1.283043, 0.20862092, 1.7236003, -0.55535084, -0.08466321, 1.0975668], 'G': [0.68304765, -0.54325235, 0.92590034, 1.4326, 0.45656186, -0.9413659, 0.25737196, -0.6638031], 'H': [-1.4825187, -0.3117496, -0.6818285, -0.5959078, -0.33135223, 2.5170393, 0.12852085, -0.014930159], 'I': [-0.21329978, -0.5170153, 0.407617, -0.9179652, -0.44414842, 0.23002039, 0.53676814, -0.4013853], 'J': [-0.2919862, 0.06928943, -0.39902785, 0.25311056, -0.13549854, 0.4407999, -0.11446251, -0.0717583]}\n"
     ]
    }
   ],
   "source": [
    "# Moirai multivariate\n",
    "model = moirai_maker(\"moirai\", gluon_multi)\n",
    "predictor = model.create_predictor(batch_size=BSZ)\n",
    "forecasts = predictor.predict(test_data_multi.input)\n",
    "\n",
    "input_it = iter(test_data_multi.input)\n",
    "label_it = iter(test_data_multi.label)\n",
    "forecast_it = iter(forecasts)\n",
    "\n",
    "#inp = next(input_it)\n",
    "#label = next(label_it)\n",
    "#forecast = next(forecast_it)\n",
    "results_dict = dict()\n",
    "letter_sequence = \"ABCDEFGHIJ\"\n",
    "for letter in letter_sequence:\n",
    "    results_dict[letter] = []\n",
    "    \n",
    "for fore in forecast_it:\n",
    "    #print(fore)\n",
    "    for letter in letter_sequence:\n",
    "        if fore.item_id == letter:\n",
    "            #print(fore.samples)\n",
    "            results_dict[letter].extend(np.median(fore.samples,axis=0))\n",
    "\n",
    "\n",
    "print(results_dict)"
   ]
  },
  {
   "cell_type": "code",
   "execution_count": 15,
   "id": "327bef43",
   "metadata": {},
   "outputs": [
    {
     "name": "stdout",
     "output_type": "stream",
     "text": [
      "{'A': [0.45762113, 0.45759442, 0.45762113, 0.45762113, 0.29026833, 0.681697, 0.5874635, 0.812534]}\n"
     ]
    }
   ],
   "source": [
    "# Moirai_MoE univariate\n",
    "model = moirai_maker(\"moirai_moe\", gluon_uni)\n",
    "predictor = model.create_predictor(batch_size=BSZ)\n",
    "forecasts = predictor.predict(test_data_uni.input)\n",
    "\n",
    "input_it = iter(test_data_uni.input)\n",
    "label_it = iter(test_data_uni.label)\n",
    "forecast_it = iter(forecasts)\n",
    "\n",
    "#inp = next(input_it)\n",
    "#label = next(label_it)\n",
    "#forecast = next(forecast_it)\n",
    "results_dict = dict()\n",
    "letter_sequence = \"A\"\n",
    "for letter in letter_sequence:\n",
    "    results_dict[letter] = []\n",
    "    \n",
    "for fore in forecast_it:\n",
    "    #print(fore)\n",
    "    for letter in letter_sequence:\n",
    "        if fore.item_id == letter:\n",
    "            #print(fore.samples)\n",
    "            results_dict[letter].extend(np.median(fore.samples,axis=0))\n",
    "\n",
    "\n",
    "print(results_dict)"
   ]
  },
  {
   "cell_type": "code",
   "execution_count": 16,
   "id": "862e33ee",
   "metadata": {},
   "outputs": [
    {
     "name": "stdout",
     "output_type": "stream",
     "text": [
      "{'A': [0.29040825, 0.24619173, 0.6819386, 0.2566449, -0.6725775, -0.38204083, -0.5746957, -1.1273104]}\n"
     ]
    }
   ],
   "source": [
    "# Moirai univariate\n",
    "model = moirai_maker(\"moirai\", gluon_uni)\n",
    "predictor = model.create_predictor(batch_size=BSZ)\n",
    "forecasts = predictor.predict(test_data_uni.input)\n",
    "\n",
    "input_it = iter(test_data_uni.input)\n",
    "label_it = iter(test_data_uni.label)\n",
    "forecast_it = iter(forecasts)\n",
    "\n",
    "#inp = next(input_it)\n",
    "#label = next(label_it)\n",
    "#forecast = next(forecast_it)\n",
    "results_dict = dict()\n",
    "letter_sequence = \"A\"\n",
    "for letter in letter_sequence:\n",
    "    results_dict[letter] = []\n",
    "    \n",
    "for fore in forecast_it:\n",
    "    #print(fore)\n",
    "    for letter in letter_sequence:\n",
    "        if fore.item_id == letter:\n",
    "            #print(fore.samples)\n",
    "            results_dict[letter].extend(np.median(fore.samples,axis=0))\n",
    "\n",
    "\n",
    "print(results_dict)"
   ]
  }
 ],
 "metadata": {
  "kernelspec": {
   "display_name": "moirai",
   "language": "python",
   "name": "python3"
  },
  "language_info": {
   "codemirror_mode": {
    "name": "ipython",
    "version": 3
   },
   "file_extension": ".py",
   "mimetype": "text/x-python",
   "name": "python",
   "nbconvert_exporter": "python",
   "pygments_lexer": "ipython3",
   "version": "3.10.18"
  }
 },
 "nbformat": 4,
 "nbformat_minor": 5
}
