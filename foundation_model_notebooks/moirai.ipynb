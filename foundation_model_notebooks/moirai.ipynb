{
 "cells": [
  {
   "cell_type": "code",
   "execution_count": 5,
   "id": "bc140281",
   "metadata": {},
   "outputs": [
    {
     "name": "stdout",
     "output_type": "stream",
     "text": [
      "['A' 'B' 'C' 'D' 'E' 'F' 'G' 'H' 'I' 'J']\n",
      "['A']\n"
     ]
    }
   ],
   "source": [
    "# Generated synthetic univariate or multivariate time series data\n",
    "import pandas as pd\n",
    "import numpy as np\n",
    "\n",
    "def generate_time_series_data(start_time: str = \"2021-01-01 00:00:00\", \n",
    "                              freq: str = \"H\", \n",
    "                              periods: int = 40, \n",
    "                              n_variables: int = 10, \n",
    "                              univariate: bool = False) -> pd.DataFrame:\n",
    "    \"\"\"\n",
    "    Generate a univariate or multivariate time series DataFrame.\n",
    "    \n",
    "    Args:\n",
    "        start_time (str): Start datetime.\n",
    "        freq (str): Pandas frequency string (e.g., 'H' for hourly).\n",
    "        periods (int): Number of time steps.\n",
    "        n_variables (int): Number of variables (ignored if univariate=True).\n",
    "        univariate (bool): Whether to generate univariate (single-column) data.\n",
    "\n",
    "    Returns:\n",
    "        pd.DataFrame: Time series data with datetime index.\n",
    "    \"\"\"\n",
    "    index = pd.date_range(start=start_time, periods=periods, freq=freq)\n",
    "\n",
    "    if univariate:\n",
    "        data = np.random.randn(periods)\n",
    "        df = pd.DataFrame(data, index=index, columns=[\"A\"])\n",
    "    else:\n",
    "        columns = list(\"ABCDEFGHIJ\")[:n_variables]\n",
    "        data = np.random.randn(periods, n_variables)\n",
    "        df = pd.DataFrame(data, index=index, columns=columns)\n",
    "    \n",
    "    return df\n",
    "\n",
    "df_multivariate = generate_time_series_data()\n",
    "print(df_multivariate.columns.values)\n",
    "df_univariate = generate_time_series_data(univariate=True)\n",
    "print(df_univariate.columns.values)"
   ]
  },
  {
   "cell_type": "code",
   "execution_count": 114,
   "id": "505d2e59",
   "metadata": {},
   "outputs": [
    {
     "name": "stdout",
     "output_type": "stream",
     "text": [
      "PandasDataset<size=10, freq=H, num_feat_dynamic_real=0, num_past_feat_dynamic_real=0, num_feat_static_real=0, num_feat_static_cat=0, static_cardinalities=[]>\n",
      "PandasDataset<size=1, freq=H, num_feat_dynamic_real=0, num_past_feat_dynamic_real=0, num_feat_static_real=0, num_feat_static_cat=0, static_cardinalities=[]>\n"
     ]
    }
   ],
   "source": [
    "import torch\n",
    "import matplotlib.pyplot as plt\n",
    "import pandas as pd\n",
    "from gluonts.dataset.pandas import PandasDataset\n",
    "from gluonts.dataset.split import split\n",
    "from huggingface_hub import hf_hub_download\n",
    "\n",
    "from uni2ts.eval_util.plot import plot_single\n",
    "from uni2ts.model.moirai import MoiraiForecast, MoiraiModule\n",
    "from uni2ts.model.moirai_moe import MoiraiMoEForecast, MoiraiMoEModule\n",
    "\n",
    "# Model configuration\n",
    "MODEL = \"moirai\"  # model name: choose from {'moirai', 'moirai-moe'}\n",
    "SIZE = \"small\"  # model size: choose from {'small', 'base', 'large'}\n",
    "PDT = 4  # prediction length: any positive integer\n",
    "CTX = 10  # context length: any positive integer\n",
    "PSZ = 8  # patch size: choose from {\"auto\", 8, 16, 32, 64, 128}\n",
    "BSZ = 8  # batch size: any positive integer\n",
    "TEST = 8  # test set length: any positive integer\n",
    "\n",
    "gluon_multi = PandasDataset(dict(df_multivariate))\n",
    "gluon_uni = PandasDataset(dict(df_univariate))\n",
    "print(gluon_multi)\n",
    "print(gluon_uni)"
   ]
  },
  {
   "cell_type": "code",
   "execution_count": 115,
   "id": "db23e2e6",
   "metadata": {},
   "outputs": [],
   "source": [
    "# Obtain train and test data\n",
    "train_multi, test_template_multi = split(\n",
    "    gluon_multi, offset=-TEST\n",
    ")  # assign last TEST time steps as test set\n",
    "\n",
    "\n",
    "train_uni, test_template_uni = split(\n",
    "    gluon_uni, offset=-TEST\n",
    ")  # assign last TEST time steps as test set\n",
    "\n",
    "\n",
    "# Construct rolling window evaluation\n",
    "test_data_multi = test_template_multi.generate_instances(\n",
    "    prediction_length=PDT,  # number of time steps for each prediction\n",
    "    windows=TEST // PDT,  # number of windows in rolling window evaluation\n",
    "    distance=PDT,  # number of time steps between each window - distance=PDT for non-overlapping windows\n",
    ")\n",
    "\n",
    "# Construct rolling window evaluation\n",
    "test_data_uni = test_template_uni.generate_instances(\n",
    "    prediction_length=PDT,  # number of time steps for each prediction\n",
    "    windows=TEST // PDT,  # number of windows in rolling window evaluation\n",
    "    distance=PDT,  # number of time steps between each window - distance=PDT for non-overlapping windows\n",
    ")\n",
    "\n"
   ]
  },
  {
   "cell_type": "code",
   "execution_count": 116,
   "id": "ac29fd9b",
   "metadata": {},
   "outputs": [],
   "source": [
    "def moirai_maker(MODEL, gluon_data):\n",
    "    if MODEL == \"moirai\":\n",
    "        model = MoiraiForecast(\n",
    "            module=MoiraiModule.from_pretrained(f\"Salesforce/moirai-1.1-R-{SIZE}\"),\n",
    "            prediction_length=PDT,\n",
    "            context_length=CTX,\n",
    "            patch_size=PSZ,\n",
    "            num_samples=5,\n",
    "            target_dim=1,\n",
    "            feat_dynamic_real_dim=gluon_data.num_feat_dynamic_real,\n",
    "            past_feat_dynamic_real_dim=gluon_data.num_past_feat_dynamic_real,\n",
    "        )\n",
    "    elif MODEL == \"moirai-moe\":\n",
    "        model = MoiraiMoEForecast(\n",
    "            module=MoiraiMoEModule.from_pretrained(f\"Salesforce/moirai-moe-1.0-R-{SIZE}\"),\n",
    "            prediction_length=PDT,\n",
    "            context_length=CTX,\n",
    "            patch_size=PSZ,\n",
    "            num_samples=5,\n",
    "            target_dim=1,\n",
    "            feat_dynamic_real_dim=gluon_data.num_feat_dynamic_real,\n",
    "            past_feat_dynamic_real_dim=gluon_data.num_past_feat_dynamic_real,\n",
    "        )\n",
    "    return model"
   ]
  },
  {
   "cell_type": "code",
   "execution_count": 117,
   "id": "5b8707f7",
   "metadata": {},
   "outputs": [
    {
     "name": "stdout",
     "output_type": "stream",
     "text": [
      "{'A': [0.63682294, -0.08885161, -0.08847554, -0.08917066, 0.35210264, 0.055747792, 0.91144603, 0.05573744], 'B': [0.19806892, 0.19806892, 0.19806892, 0.41025853, 0.67905104, -0.43745625, 0.27192762, -0.43852666], 'C': [0.39108858, 0.7846563, 1.1567093, 0.93468964, 1.3947501, 0.9177928, 0.6662674, 0.665996], 'D': [-0.13739681, 0.60518265, -0.32496133, -0.32720694, -0.20336926, 0.5309346, 2.2014656, -0.20102113], 'E': [-0.17892006, -0.17811641, -0.17801014, -0.17892006, 0.3692882, 0.4324031, -0.3472769, -0.34748352], 'F': [0.70718575, 0.5240841, 0.33650056, 0.33518323, 0.23835024, 0.2381035, 0.07057999, 1.063255], 'G': [0.6813359, 0.49053183, 0.18602249, 0.53956985, 0.5492074, 0.5498458, 0.5482884, -0.1420626], 'H': [0.65762186, 0.46188575, 0.46188575, 0.46118075, 0.91867507, 1.3667681, 0.48583686, 0.48736903], 'I': [0.7494148, 0.34689075, 0.6662913, 0.9471603, -0.017657915, 0.38901538, -0.01728117, -0.01847508], 'J': [0.2069133, 0.061959535, 0.2069133, 1.0570999, 0.5012657, 0.5012657, 0.50105286, 1.0201651]}\n"
     ]
    }
   ],
   "source": [
    "# Moirai-MoE multivariate\n",
    "model = moirai_maker(\"moirai-moe\", gluon_multi)\n",
    "predictor = model.create_predictor(batch_size=BSZ)\n",
    "forecasts = predictor.predict(test_data_multi.input)\n",
    "\n",
    "input_it = iter(test_data_multi.input)\n",
    "label_it = iter(test_data_multi.label)\n",
    "forecast_it = iter(forecasts)\n",
    "\n",
    "#inp = next(input_it)\n",
    "#label = next(label_it)\n",
    "#forecast = next(forecast_it)\n",
    "results_dict = dict()\n",
    "letter_sequence = \"ABCDEFGHIJ\"\n",
    "for letter in letter_sequence:\n",
    "    results_dict[letter] = []\n",
    "    \n",
    "for fore in forecast_it:\n",
    "    #print(fore)\n",
    "    for letter in letter_sequence:\n",
    "        if fore.item_id == letter:\n",
    "            #print(fore.samples)\n",
    "            results_dict[letter].extend(np.median(fore.samples,axis=0))\n",
    "\n",
    "\n",
    "print(results_dict)"
   ]
  },
  {
   "cell_type": "code",
   "execution_count": 118,
   "id": "72e05655",
   "metadata": {},
   "outputs": [
    {
     "name": "stdout",
     "output_type": "stream",
     "text": [
      "{'A': [0.4199658, -0.04238665, 0.53047466, 0.6484297, -0.7941812, 0.52682906, 0.04704149, -0.35343242], 'B': [-0.47716868, 0.20813932, -0.10218641, 0.38613018, -0.6117233, -0.5441976, -0.6041887, 0.51189494], 'C': [0.47875613, 0.92461705, 0.8862364, 0.5535266, 1.2273306, 2.219431, 1.7001741, 1.509053], 'D': [0.7514059, 1.3698223, -0.12644772, 0.9597598, 0.3858434, -0.91814625, -0.9374661, -1.3722415], 'E': [-0.70506823, -1.3625075, -1.1324836, -2.7330172, -0.3074691, -1.1631563, 0.21918035, 0.8013059], 'F': [0.7243819, 0.46032622, 0.2248562, 0.13675435, -0.03128919, 0.22621758, 0.08883178, 0.5681387], 'G': [0.8100077, 0.54422146, 0.78186285, -0.2545949, 1.5048379, 2.3548255, 0.8634256, 1.9226036], 'H': [0.95227516, 1.6497273, 0.46188575, 1.4687686, 0.81903386, 1.332994, 1.5530438, 0.66443723], 'I': [0.49611318, 0.45553195, 1.3465798, 3.2257514, 0.3974086, 0.12264862, -0.07898504, -0.013508739], 'J': [-0.17340355, 0.12529722, 0.108337365, 0.2834773, -0.014264166, 0.5603231, 0.63579607, 0.4712768]}\n"
     ]
    }
   ],
   "source": [
    "# Moirai multivariate\n",
    "model = moirai_maker(\"moirai\", gluon_multi)\n",
    "predictor = model.create_predictor(batch_size=BSZ)\n",
    "forecasts = predictor.predict(test_data_multi.input)\n",
    "\n",
    "input_it = iter(test_data_multi.input)\n",
    "label_it = iter(test_data_multi.label)\n",
    "forecast_it = iter(forecasts)\n",
    "\n",
    "#inp = next(input_it)\n",
    "#label = next(label_it)\n",
    "#forecast = next(forecast_it)\n",
    "results_dict = dict()\n",
    "letter_sequence = \"ABCDEFGHIJ\"\n",
    "for letter in letter_sequence:\n",
    "    results_dict[letter] = []\n",
    "    \n",
    "for fore in forecast_it:\n",
    "    #print(fore)\n",
    "    for letter in letter_sequence:\n",
    "        if fore.item_id == letter:\n",
    "            #print(fore.samples)\n",
    "            results_dict[letter].extend(np.median(fore.samples,axis=0))\n",
    "\n",
    "\n",
    "print(results_dict)"
   ]
  },
  {
   "cell_type": "code",
   "execution_count": 119,
   "id": "327bef43",
   "metadata": {},
   "outputs": [
    {
     "name": "stdout",
     "output_type": "stream",
     "text": [
      "{'A': [0.3850466, -0.11534281, -0.1143708, -0.11465937, 0.50890744, -0.0068272552, 0.7272135, 0.0146063175]}\n"
     ]
    }
   ],
   "source": [
    "# Moirai-MoE univariate\n",
    "model = moirai_maker(\"moirai-moe\", gluon_uni)\n",
    "predictor = model.create_predictor(batch_size=BSZ)\n",
    "forecasts = predictor.predict(test_data_uni.input)\n",
    "\n",
    "input_it = iter(test_data_uni.input)\n",
    "label_it = iter(test_data_uni.label)\n",
    "forecast_it = iter(forecasts)\n",
    "\n",
    "#inp = next(input_it)\n",
    "#label = next(label_it)\n",
    "#forecast = next(forecast_it)\n",
    "results_dict = dict()\n",
    "letter_sequence = \"A\"\n",
    "for letter in letter_sequence:\n",
    "    results_dict[letter] = []\n",
    "    \n",
    "for fore in forecast_it:\n",
    "    #print(fore)\n",
    "    for letter in letter_sequence:\n",
    "        if fore.item_id == letter:\n",
    "            #print(fore.samples)\n",
    "            results_dict[letter].extend(np.median(fore.samples,axis=0))\n",
    "\n",
    "\n",
    "print(results_dict)"
   ]
  },
  {
   "cell_type": "code",
   "execution_count": 120,
   "id": "862e33ee",
   "metadata": {},
   "outputs": [
    {
     "name": "stdout",
     "output_type": "stream",
     "text": [
      "{'A': [-0.21369329, 0.77840966, 0.07158667, -0.74544215, 0.71131486, 0.60488045, 0.5745657, 0.68131053]}\n"
     ]
    }
   ],
   "source": [
    "# Moirai univariate\n",
    "model = moirai_maker(\"moirai\", gluon_uni)\n",
    "predictor = model.create_predictor(batch_size=BSZ)\n",
    "forecasts = predictor.predict(test_data_uni.input)\n",
    "\n",
    "input_it = iter(test_data_uni.input)\n",
    "label_it = iter(test_data_uni.label)\n",
    "forecast_it = iter(forecasts)\n",
    "\n",
    "#inp = next(input_it)\n",
    "#label = next(label_it)\n",
    "#forecast = next(forecast_it)\n",
    "results_dict = dict()\n",
    "letter_sequence = \"A\"\n",
    "for letter in letter_sequence:\n",
    "    results_dict[letter] = []\n",
    "    \n",
    "for fore in forecast_it:\n",
    "    #print(fore)\n",
    "    for letter in letter_sequence:\n",
    "        if fore.item_id == letter:\n",
    "            #print(fore.samples)\n",
    "            results_dict[letter].extend(np.median(fore.samples,axis=0))\n",
    "\n",
    "\n",
    "print(results_dict)"
   ]
  }
 ],
 "metadata": {
  "kernelspec": {
   "display_name": "moirai",
   "language": "python",
   "name": "python3"
  },
  "language_info": {
   "codemirror_mode": {
    "name": "ipython",
    "version": 3
   },
   "file_extension": ".py",
   "mimetype": "text/x-python",
   "name": "python",
   "nbconvert_exporter": "python",
   "pygments_lexer": "ipython3",
   "version": "3.10.18"
  }
 },
 "nbformat": 4,
 "nbformat_minor": 5
}
