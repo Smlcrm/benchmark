{
  "nbformat": 4,
  "nbformat_minor": 0,
  "metadata": {
    "colab": {
      "provenance": []
    },
    "kernelspec": {
      "name": "python3",
      "display_name": "Python 3"
    },
    "language_info": {
      "name": "python"
    }
  },
  "cells": [
    {
      "cell_type": "code",
      "execution_count": null,
      "metadata": {
        "collapsed": true,
        "id": "ejhr75Rf-bzz"
      },
      "outputs": [],
      "source": [
        "!pip install git+https://github.com/amazon-science/chronos-forecasting.git"
      ]
    },
    {
      "cell_type": "code",
      "source": [
        "!pip install numpy==1.26.4"
      ],
      "metadata": {
        "id": "w-CWQGk0TPXj"
      },
      "execution_count": null,
      "outputs": []
    },
    {
      "cell_type": "code",
      "source": [
        "import pandas as pd\n",
        "import torch\n",
        "from chronos import BaseChronosPipeline\n",
        "\n",
        "pipeline = BaseChronosPipeline.from_pretrained(\n",
        "    \"amazon/chronos-t5-small\",\n",
        "    device_map=\"cpu\",  # or \"cuda\"\n",
        "    torch_dtype=torch.bfloat16,\n",
        ")\n",
        "\n",
        "# Univariate\n",
        "df = pd.read_csv(\n",
        "    \"https://raw.githubusercontent.com/AileenNielsen/TimeSeriesAnalysisWithPython/master/data/AirPassengers.csv\"\n",
        ")\n",
        "\n",
        "quantiles, mean = pipeline.predict_quantiles(\n",
        "    context=torch.tensor(df[\"#Passengers\"]),\n",
        "    prediction_length=12,\n",
        "    quantile_levels=[0.1, 0.5, 0.9],\n",
        ")"
      ],
      "metadata": {
        "id": "D0Ejrc6-EgzN"
      },
      "execution_count": null,
      "outputs": []
    },
    {
      "cell_type": "code",
      "source": [
        "!pip install matplotlib"
      ],
      "metadata": {
        "collapsed": true,
        "id": "4to8cafSTysd"
      },
      "execution_count": null,
      "outputs": []
    },
    {
      "cell_type": "code",
      "source": [
        "import matplotlib.pyplot as plt\n",
        "\n",
        "forecast_index = range(len(df), len(df) + 12)\n",
        "low, median, high = quantiles[0, :, 0], quantiles[0, :, 1], quantiles[0, :, 2]\n",
        "\n",
        "plt.figure(figsize=(8, 4))\n",
        "plt.plot(df[\"#Passengers\"], color=\"blue\", label=\"historical data\")\n",
        "plt.plot(forecast_index, median, color=\"red\", label=\"median forecast\")\n",
        "plt.fill_between(forecast_index, low, high, color=\"red\", alpha=0.3, label=\"80% prediction interval\")\n",
        "plt.legend()\n",
        "plt.grid()\n",
        "plt.show()"
      ],
      "metadata": {
        "id": "VWrkXfXyTxYF"
      },
      "execution_count": null,
      "outputs": []
    },
    {
      "cell_type": "code",
      "source": [
        "quantiles"
      ],
      "metadata": {
        "id": "bIshAY-MTRk7"
      },
      "execution_count": null,
      "outputs": []
    },
    {
      "cell_type": "code",
      "source": [
        "mean"
      ],
      "metadata": {
        "id": "e8YA7XRqThBV"
      },
      "execution_count": null,
      "outputs": []
    }
  ]
}