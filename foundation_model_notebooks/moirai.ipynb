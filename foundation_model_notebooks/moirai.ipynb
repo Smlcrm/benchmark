{
 "cells": [
  {
   "cell_type": "code",
   "execution_count": 2,
   "id": "bc140281",
   "metadata": {},
   "outputs": [
    {
     "name": "stdout",
     "output_type": "stream",
     "text": [
      "['A' 'B' 'C' 'D' 'E' 'F' 'G' 'H' 'I' 'J']\n",
      "                            A\n",
      "2021-01-01 00:00:00 -1.784323\n",
      "2021-01-01 01:00:00 -0.516175\n",
      "2021-01-01 02:00:00  0.437445\n",
      "2021-01-01 03:00:00 -0.590988\n",
      "2021-01-01 04:00:00  0.710985\n"
     ]
    }
   ],
   "source": [
    "# Generated synthetic univariate or multivariate time series data\n",
    "import pandas as pd\n",
    "import numpy as np\n",
    "from einops import rearrange\n",
    "\n",
    "def generate_time_series_data(start_time: str = \"2021-01-01 00:00:00\", \n",
    "                              freq: str = \"H\", \n",
    "                              periods: int = 40, \n",
    "                              n_variables: int = 10, \n",
    "                              univariate: bool = False) -> pd.DataFrame:\n",
    "    \"\"\"\n",
    "    Generate a univariate or multivariate time series DataFrame.\n",
    "    \n",
    "    Args:\n",
    "        start_time (str): Start datetime.\n",
    "        freq (str): Pandas frequency string (e.g., 'H' for hourly).\n",
    "        periods (int): Number of time steps.\n",
    "        n_variables (int): Number of variables (ignored if univariate=True).\n",
    "        univariate (bool): Whether to generate univariate (single-column) data.\n",
    "\n",
    "    Returns:\n",
    "        pd.DataFrame: Time series data with datetime index.\n",
    "    \"\"\"\n",
    "    index = pd.date_range(start=start_time, periods=periods, freq=freq)\n",
    "\n",
    "    if univariate:\n",
    "        data = np.random.randn(periods)\n",
    "        df = pd.DataFrame(data, index=index, columns=[\"A\"])\n",
    "    else:\n",
    "        columns = list(\"ABCDEFGHIJ\")[:n_variables]\n",
    "        data = np.random.randn(periods, n_variables)\n",
    "        df = pd.DataFrame(data, index=index, columns=columns)\n",
    "    \n",
    "    return df\n",
    "\n",
    "df_multivariate = generate_time_series_data()\n",
    "print(df_multivariate.columns.values)\n",
    "df_univariate = generate_time_series_data(univariate=True)\n",
    "print(df_univariate.head())"
   ]
  },
  {
   "cell_type": "code",
   "execution_count": 17,
   "id": "505d2e59",
   "metadata": {},
   "outputs": [],
   "source": [
    "import torch\n",
    "import matplotlib.pyplot as plt\n",
    "import pandas as pd\n",
    "from gluonts.dataset.pandas import PandasDataset\n",
    "from gluonts.dataset.split import split\n",
    "from huggingface_hub import hf_hub_download\n",
    "\n",
    "from uni2ts.eval_util.plot import plot_single\n",
    "from uni2ts.model.moirai import MoiraiForecast, MoiraiModule\n",
    "from uni2ts.model.moirai_moe import MoiraiMoEForecast, MoiraiMoEModule\n",
    "\n",
    "# Model configuration\n",
    "MODEL = \"moirai\"  # model name: choose from {'moirai', 'moirai-moe'}\n",
    "SIZE = \"small\"  # model size: choose from {'small', 'base', 'large'}\n",
    "PDT = 60  # prediction length: any positive integer\n",
    "CTX = 40  # context length: any positive integer\n",
    "PSZ = 32  # patch size: choose from {\"auto\", 8, 16, 32, 64, 128}\n",
    "BSZ = 8  # batch size: any positive integer\n",
    "TEST = 8  # test set length: any positive integer\n",
    "\n"
   ]
  },
  {
   "cell_type": "code",
   "execution_count": 18,
   "id": "ac29fd9b",
   "metadata": {},
   "outputs": [],
   "source": [
    "def moirai_maker(MODEL):\n",
    "    if MODEL == \"moirai\":\n",
    "        model = MoiraiForecast(\n",
    "            module=MoiraiModule.from_pretrained(f\"Salesforce/moirai-1.1-R-{SIZE}\"),\n",
    "            prediction_length=PDT,\n",
    "            context_length=CTX,\n",
    "            patch_size=PSZ,\n",
    "            num_samples=500,\n",
    "            target_dim=1,\n",
    "            feat_dynamic_real_dim=0,\n",
    "            past_feat_dynamic_real_dim=0,\n",
    "        )\n",
    "    elif MODEL == \"moirai-moe\":\n",
    "        model = MoiraiMoEForecast(\n",
    "            module=MoiraiMoEModule.from_pretrained(f\"Salesforce/moirai-moe-1.0-R-{SIZE}\"),\n",
    "            prediction_length=PDT,\n",
    "            context_length=CTX,\n",
    "            patch_size=PSZ,\n",
    "            num_samples=500,\n",
    "            target_dim=1,\n",
    "            feat_dynamic_real_dim=0,\n",
    "            past_feat_dynamic_real_dim=0,\n",
    "        )\n",
    "    return model"
   ]
  },
  {
   "cell_type": "code",
   "execution_count": 19,
   "id": "862e33ee",
   "metadata": {},
   "outputs": [
    {
     "name": "stdout",
     "output_type": "stream",
     "text": [
      "moirai start\n",
      "moirai end\n",
      "[0.9221 0.8047 0.8664 1.0779 1.1799 1.2292 1.0917 0.9621 0.779  0.819\n",
      " 0.8958 1.1054 1.166  1.105  1.1139 1.0751 1.2097 1.2432 1.2658 1.079\n",
      " 1.025  0.9428 0.9036 1.0599 1.0931 1.1266 1.2288 1.0618 1.1765 1.1986\n",
      " 1.1631 1.1768 0.642  0.7636 0.629  0.5958 0.5269 0.5235 0.6213 0.7105\n",
      " 0.615  0.6891 0.5689 0.7422 0.6613 0.5758 0.5737 0.5537 0.5627 0.584\n",
      " 0.6588 0.6301 0.8834 0.8627 0.7345 0.6447 0.8316 0.62   0.5919 0.6872]\n"
     ]
    }
   ],
   "source": [
    "# Moirai univariate\n",
    "model = moirai_maker(\"moirai\")\n",
    "\n",
    "# Time series values. Shape: (batch, time, variate)\n",
    "past_target = rearrange(\n",
    "    torch.as_tensor(df_univariate[\"A\"].to_numpy(), dtype=torch.float32), \"t -> 1 t 1\"\n",
    ")\n",
    "# 1s if the value is observed, 0s otherwise. Shape: (batch, time, variate)\n",
    "past_observed_target = torch.ones_like(past_target, dtype=torch.bool)\n",
    "# 1s if the value is padding, 0s otherwise. Shape: (batch, time)\n",
    "past_is_pad = torch.zeros_like(past_target, dtype=torch.bool).squeeze(-1)\n",
    "\n",
    "#print(\"past_target.shape:\", past_target.shape)\n",
    "#print(\"past_observed_target.shape:\", past_observed_target.shape)\n",
    "#print(\"past_is_pad.shape:\", past_is_pad.shape)\n",
    "print(\"moirai start\")\n",
    "forecast = model(\n",
    "    past_target=past_target,\n",
    "    past_observed_target=past_observed_target,\n",
    "    past_is_pad=past_is_pad,\n",
    ")\n",
    "print(\"moirai end\")\n",
    "\n",
    "\n",
    "print(np.round(np.median(forecast[0], axis=0), decimals=4),)\n",
    "\n",
    "\n"
   ]
  },
  {
   "cell_type": "code",
   "execution_count": 20,
   "id": "327bef43",
   "metadata": {},
   "outputs": [
    {
     "name": "stdout",
     "output_type": "stream",
     "text": [
      "moirai_moe start\n",
      "moirai_moe end\n",
      "[0.0151 0.0151 0.0364 0.0156 0.0156 0.0156 0.0157 0.0162 0.0152 0.0395\n",
      " 0.0158 0.0159 0.0157 0.0162 0.0155 0.0152 0.5208 0.4502 0.4323 0.4616\n",
      " 0.4438 0.4622 0.44   0.4999 0.455  0.4693 0.512  0.4509 0.4609 0.4282\n",
      " 0.4532 0.438 ]\n"
     ]
    }
   ],
   "source": [
    "# Moirai-MoE univariate\n",
    "model = moirai_maker(\"moirai-moe\")\n",
    "\n",
    "# Time series values. Shape: (batch, time, variate)\n",
    "past_target = rearrange(\n",
    "    torch.as_tensor(df_univariate[\"A\"].to_numpy(), dtype=torch.float32), \"t -> 1 t 1\"\n",
    ")\n",
    "# 1s if the value is observed, 0s otherwise. Shape: (batch, time, variate)\n",
    "past_observed_target = torch.ones_like(past_target, dtype=torch.bool)\n",
    "# 1s if the value is padding, 0s otherwise. Shape: (batch, time)\n",
    "past_is_pad = torch.zeros_like(past_target, dtype=torch.bool).squeeze(-1)\n",
    "\n",
    "#print(\"past_target.shape:\", past_target.shape)\n",
    "#print(\"past_observed_target.shape:\", past_observed_target.shape)\n",
    "#print(\"past_is_pad.shape:\", past_is_pad.shape)\n",
    "print(\"moirai_moe start\")\n",
    "forecast = model(\n",
    "    past_target=past_target,\n",
    "    past_observed_target=past_observed_target,\n",
    "    past_is_pad=past_is_pad,\n",
    ")\n",
    "print(\"moirai_moe end\")\n",
    "\n",
    "\n",
    "print(np.round(np.median(forecast[0], axis=0), decimals=4),)\n"
   ]
  }
 ],
 "metadata": {
  "kernelspec": {
   "display_name": "moirai",
   "language": "python",
   "name": "python3"
  },
  "language_info": {
   "codemirror_mode": {
    "name": "ipython",
    "version": 3
   },
   "file_extension": ".py",
   "mimetype": "text/x-python",
   "name": "python",
   "nbconvert_exporter": "python",
   "pygments_lexer": "ipython3",
   "version": "3.10.18"
  }
 },
 "nbformat": 4,
 "nbformat_minor": 5
}
