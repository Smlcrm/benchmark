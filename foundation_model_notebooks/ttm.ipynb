{
   "cells": [
      {
         "cell_type": "markdown",
         "id": "8cd65d68",
         "metadata": {},
         "source": [
            "[Tiny Time Mixer in sktime library](https://www.sktime.net/en/latest/api_reference/auto_generated/sktime.forecasting.ttm.TinyTimeMixerForecaster.html)"
         ]
      },
      {
         "cell_type": "code",
         "execution_count": 1,
         "id": "8051ebf7",
         "metadata": {},
         "outputs": [
            {
               "name": "stdout",
               "output_type": "stream",
               "text": [
                  "['A' 'B' 'C' 'D' 'E' 'F' 'G' 'H' 'I' 'J']\n",
                  "                            A\n",
                  "2021-01-01 00:00:00 -0.266441\n",
                  "2021-01-01 01:00:00  0.630555\n",
                  "2021-01-01 02:00:00  0.708136\n",
                  "2021-01-01 03:00:00 -0.562312\n",
                  "2021-01-01 04:00:00 -0.584507\n"
               ]
            },
            {
               "name": "stderr",
               "output_type": "stream",
               "text": [
                  "/var/folders/ch/c2hzh4rs0vq5mjq5cp46s_hh0000gn/T/ipykernel_3437/200520487.py:23: FutureWarning: 'H' is deprecated and will be removed in a future version, please use 'h' instead.\n",
                  "  index = pd.date_range(start=start_time, periods=periods, freq=freq)\n"
               ]
            }
         ],
         "source": [
            "import pandas as pd\n",
            "import numpy as np\n",
            "\n",
            "\n",
            "def generate_time_series_data(start_time: str = \"2021-01-01 00:00:00\", \n",
            "                              freq: str = \"H\", \n",
            "                              periods: int = 40, \n",
            "                              n_variables: int = 10, \n",
            "                              univariate: bool = False) -> pd.DataFrame:\n",
            "    \"\"\"\n",
            "    Generate a univariate or multivariate time series DataFrame.\n",
            "    \n",
            "    Args:\n",
            "        start_time (str): Start datetime.\n",
            "        freq (str): Pandas frequency string (e.g., 'H' for hourly).\n",
            "        periods (int): Number of time steps.\n",
            "        n_variables (int): Number of variables (ignored if univariate=True).\n",
            "        univariate (bool): Whether to generate univariate (single-column) data.\n",
            "\n",
            "    Returns:\n",
            "        pd.DataFrame: Time series data with datetime index.\n",
            "    \"\"\"\n",
            "    index = pd.date_range(start=start_time, periods=periods, freq=freq)\n",
            "\n",
            "    if univariate:\n",
            "        data = np.random.randn(periods)\n",
            "        df = pd.DataFrame(data, index=index, columns=[\"A\"])\n",
            "    else:\n",
            "        columns = list(\"ABCDEFGHIJ\")[:n_variables]\n",
            "        data = np.random.randn(periods, n_variables)\n",
            "        df = pd.DataFrame(data, index=index, columns=columns)\n",
            "    \n",
            "    return df\n",
            "\n",
            "df_multivariate = generate_time_series_data()\n",
            "print(df_multivariate.columns.values)\n",
            "df_univariate = generate_time_series_data(univariate=True)\n",
            "print(df_univariate.head())"
         ]
      },
      {
         "cell_type": "markdown",
         "id": "6a1d523c",
         "metadata": {},
         "source": [
            "### Useful model parameters\n",
            "- Forecast Range?"
         ]
      },
      {
         "cell_type": "code",
         "execution_count": 26,
         "id": "224e682a",
         "metadata": {},
         "outputs": [
            {
               "name": "stdout",
               "output_type": "stream",
               "text": [
                  "<class 'pandas.core.frame.DataFrame'>\n"
               ]
            },
            {
               "name": "stderr",
               "output_type": "stream",
               "text": [
                  "Some weights of TinyTimeMixerForPrediction were not initialized from the model checkpoint at ibm/TTM and are newly initialized because the shapes did not match:\n",
                  "- head.base_forecast_block.bias: found shape torch.Size([96]) in the checkpoint and torch.Size([900]) in the model instantiated\n",
                  "- head.base_forecast_block.weight: found shape torch.Size([96, 1024]) in the checkpoint and torch.Size([900, 1024]) in the model instantiated\n",
                  "You should probably TRAIN this model on a down-stream task to be able to use it for predictions and inference.\n",
                  "/opt/miniconda3/envs/ttm/lib/python3.10/site-packages/torch/utils/data/dataloader.py:684: UserWarning: 'pin_memory' argument is set as true but not supported on MPS now, then device pinned memory won't be used.\n",
                  "  warnings.warn(warn_msg)\n"
               ]
            },
            {
               "data": {
                  "text/html": [
                     "\n",
                     "    <div>\n",
                     "      \n",
                     "      <progress value='3' max='3' style='width:300px; height:20px; vertical-align: middle;'></progress>\n",
                     "      [3/3 00:00, Epoch 3/3]\n",
                     "    </div>\n",
                     "    <table border=\"1\" class=\"dataframe\">\n",
                     "  <thead>\n",
                     " <tr style=\"text-align: left;\">\n",
                     "      <th>Step</th>\n",
                     "      <th>Training Loss</th>\n",
                     "    </tr>\n",
                     "  </thead>\n",
                     "  <tbody>\n",
                     "  </tbody>\n",
                     "</table><p>"
                  ],
                  "text/plain": [
                     "<IPython.core.display.HTML object>"
                  ]
               },
               "metadata": {},
               "output_type": "display_data"
            },
            {
               "name": "stdout",
               "output_type": "stream",
               "text": [
                  "hi [[ 0.07667467 -0.07064023 -0.17663668 ...  0.02221875 -0.01519668\n",
                  "  -0.04674244]\n",
                  " [ 0.08022483 -0.2971632  -0.18573919 ...  0.00931    -0.18078104\n",
                  "  -0.04745048]\n",
                  " [ 0.14523251 -0.29760098 -0.16257453 ... -0.03280352 -0.10213852\n",
                  "  -0.00494773]\n",
                  " ...\n",
                  " [ 0.11168133  0.01703057 -0.05509321 ...  0.02324961 -0.04351592\n",
                  "   0.04044035]\n",
                  " [ 0.07044447 -0.04250482 -0.07939322 ... -0.01201214 -0.20598188\n",
                  "  -0.08697575]\n",
                  " [ 0.11148805 -0.26209682 -0.36097658 ...  0.07586537  0.06173564\n",
                  "   0.16044587]]\n"
               ]
            }
         ],
         "source": [
            "from sktime.forecasting.ttm import TinyTimeMixerForecaster\n",
            "from sktime.datasets import load_airline\n",
            "#y = load_airline()\n",
            "y = df_multivariate\n",
            "forecaster = TinyTimeMixerForecaster() \n",
            "# performs zero-shot forecasting, as default config (unchanged) is used\n",
            "print(type(y))\n",
            "forecaster.fit(y, fh=list(range(1,901))) \n",
            "y_pred = forecaster.predict() \n",
            "#print(y_pred.columns.values)\n",
            "#print((y_pred[y_pred.columns.values].values))\n",
            "print(\"hi\", np.reshape(y_pred[y_pred.columns.values].values, (len(y_pred.columns.values), -1))) \n",
            "#print(forecaster.get_tags())"
         ]
      }
   ],
   "metadata": {
      "kernelspec": {
         "display_name": "ttm",
         "language": "python",
         "name": "python3"
      },
      "language_info": {
         "codemirror_mode": {
            "name": "ipython",
            "version": 3
         },
         "file_extension": ".py",
         "mimetype": "text/x-python",
         "name": "python",
         "nbconvert_exporter": "python",
         "pygments_lexer": "ipython3",
         "version": "3.10.18"
      }
   },
   "nbformat": 4,
   "nbformat_minor": 5
}
